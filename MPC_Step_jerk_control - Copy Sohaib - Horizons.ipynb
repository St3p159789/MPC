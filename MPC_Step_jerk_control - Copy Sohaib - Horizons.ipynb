{
 "cells": [
  {
   "cell_type": "code",
   "execution_count": 272,
   "metadata": {},
   "outputs": [],
   "source": [
    "import sys \n",
    "import os\n",
    "import time\n",
    "\n",
    "rel_do_mpc_path = os.path.join('..','..')\n",
    "sys.path.append(rel_do_mpc_path)\n",
    "\n",
    "import do_mpc\n",
    "from do_mpc.data import save_results, load_results\n",
    "from matplotlib.animation import FuncAnimation, PillowWriter\n",
    "\n",
    "import time\n",
    "import numpy as np\n",
    "\n",
    "from casadi import *\n",
    "from casadi.tools import *"
   ]
  },
  {
   "cell_type": "markdown",
   "metadata": {},
   "source": [
    "-----------------------\n",
    "### <center>PARAMETRES UTILISATEURS</center>\n",
    "-----------------------"
   ]
  },
  {
   "cell_type": "code",
   "execution_count": 273,
   "metadata": {},
   "outputs": [],
   "source": [
    "auteur = 'step'   # Pour ne pas ecraser entre nous\n",
    "\n",
    "# Environment\n",
    "scenario = 1\n",
    "\n",
    "# Metrique: J1 ou J2\n",
    "use_objective = 'J1'\n",
    "\n",
    "# Qualité du solveur\n",
    "n_horizon = 30     # 10, 20 ou 50\n",
    "t_step_ech = 0.05  # 0.05"
   ]
  },
  {
   "cell_type": "code",
   "execution_count": 274,
   "metadata": {},
   "outputs": [],
   "source": [
    "results = {}  # Dictionary to store results\n",
    "computation_times = {}  # Dictionary to store computation times"
   ]
  },
  {
   "cell_type": "code",
   "execution_count": 275,
   "metadata": {},
   "outputs": [],
   "source": [
    "# ATTENTION : si un sénario est changé, il faut supprimé toute la data qui y est liée\n",
    "use_obstacle = True\n",
    "use_rterm2 = False\n",
    "reference = 'cste'   # 'cste', 'bi', 'continuous', 'var' (t_switch: temps auquel on passe à la 2e consigne)\n",
    "\n",
    "# CI : CInulles, CI1, CIcontournement, CIcontournement_replie\n",
    "if scenario==1: # VEROUILLE <=====================================\n",
    "    CI = 'CIcontournement'\n",
    "    n_step_sim = 150\n",
    "    consigne1 = np.pi/2\n",
    "    gamma = np.pi\n",
    "\n",
    "elif scenario==2: \n",
    "    CI = 'CIcontournement_replie'\n",
    "    n_step_sim = 200\n",
    "    consigne1 = np.pi\n",
    "    gamma = np.pi\n",
    "\n",
    "elif scenario==3: # VEROUILLE <=====================================\n",
    "    CI = 'CI1'\n",
    "    consigne1 = np.pi/2\n",
    "    reference = 'bi'\n",
    "    n_step_sim = 200\n",
    "    t_switch = 2.5\n",
    "    consigne2 = np.pi\n",
    "    gamma = np.pi\n",
    "\n",
    "elif scenario==4: # VEROUILLE <=====================================\n",
    "    CI = 'CI1'\n",
    "    use_rterm2 = True\n",
    "    consigne1 = np.pi/2\n",
    "    reference = 'bi'\n",
    "    n_step_sim = 200\n",
    "    t_switch = 2.5\n",
    "    consigne2 = np.pi\n",
    "    gamma = np.pi\n",
    "\n",
    "elif scenario==5:  # VEROUILLE <=====================================\n",
    "    CI = 'CI1'\n",
    "    consigne1 = np.pi/2\n",
    "    reference = 'continuous'\n",
    "    v_rot = 2*np.pi/50   # rad/s\n",
    "    n_step_sim = 1000\n",
    "    gamma = np.pi\n",
    "\n",
    "elif scenario==6:  # VEROUILLE <=====================================\n",
    "    CI = 'CI1'\n",
    "    consigne1 = np.pi/2\n",
    "    reference = 'var'\n",
    "    a_rot = 2*np.pi/50 /8   # rad/s²\n",
    "    n_step_sim = 1000\n",
    "    gamma = np.pi\n",
    "\n",
    "else:\n",
    "    raise ValueError('Scenario non reconnu')"
   ]
  },
  {
   "cell_type": "code",
   "execution_count": 276,
   "metadata": {},
   "outputs": [],
   "source": [
    "# Define obstacles\n",
    "obstacle = {'x': 0., 'y': 0, 'r': 0.4}\n",
    "\n",
    "# Defini cercle bleu\n",
    "cercle_bleu = {'x': obstacle['x'], 'y': obstacle['y'], 'r': 0.6}"
   ]
  },
  {
   "cell_type": "markdown",
   "metadata": {},
   "source": [
    "-----------------------\n",
    "### <center>MODELISATION</center>\n",
    "-----------------------"
   ]
  },
  {
   "cell_type": "code",
   "execution_count": 277,
   "metadata": {},
   "outputs": [],
   "source": [
    "# Creation du modele\n",
    "model_type = \"continuous\"\n",
    "model = do_mpc.model.Model(model_type)"
   ]
  },
  {
   "cell_type": "code",
   "execution_count": 278,
   "metadata": {},
   "outputs": [],
   "source": [
    "# Pramètre physiques\n",
    "l1 = 0.4; l2 = 0.4; l3 = 0.3\n",
    "d0_min=0.4; d1_min=0.3; d2_min=0.1; d3_min=0.15"
   ]
  },
  {
   "cell_type": "code",
   "execution_count": 279,
   "metadata": {},
   "outputs": [],
   "source": [
    "# System state variables\n",
    "x1 = model.set_variable(var_type='_x', var_name='x1', shape=(1,1))\n",
    "x2 = model.set_variable(var_type='_x', var_name='x2', shape=(1,1))\n",
    "x3 = model.set_variable(var_type='_x', var_name='x3', shape=(1,1))\n",
    "x4 = model.set_variable(var_type='_x', var_name='x4', shape=(1,1))\n",
    "x5 = model.set_variable(var_type='_x', var_name='x5', shape=(1,1))\n",
    "\n",
    "v1 = model.set_variable(var_type='_x', var_name='v1', shape=(1,1))\n",
    "v2 = model.set_variable(var_type='_x', var_name='v2', shape=(1,1))\n",
    "v3 = model.set_variable(var_type='_x', var_name='v3', shape=(1,1))\n",
    "v4 = model.set_variable(var_type='_x', var_name='v4', shape=(1,1))\n",
    "\n",
    "a1 = model.set_variable(var_type='_x', var_name='a1', shape=(1,1))\n",
    "a2 = model.set_variable(var_type='_x', var_name='a2', shape=(1,1))\n",
    "a3 = model.set_variable(var_type='_x', var_name='a3', shape=(1,1))\n",
    "a4 = model.set_variable(var_type='_x', var_name='a4', shape=(1,1))\n",
    "\n",
    "# System input variables\n",
    "u1 = model.set_variable(var_type='_u', var_name='u1', shape=(1,1))\n",
    "u2 = model.set_variable(var_type='_u', var_name='u2', shape=(1,1))\n",
    "u3 = model.set_variable(var_type='_u', var_name='u3', shape=(1,1))\n",
    "u4 = model.set_variable(var_type='_u', var_name='u4', shape=(1,1))"
   ]
  },
  {
   "cell_type": "code",
   "execution_count": 280,
   "metadata": {},
   "outputs": [],
   "source": [
    "# Modèle dynamique du robot\n",
    "model.set_rhs('x1', v1*np.cos(x3))\n",
    "model.set_rhs('x2', v1*np.sin(x3))\n",
    "model.set_rhs('x3', v2)\n",
    "model.set_rhs('x4', v3)\n",
    "model.set_rhs('x5', v4)\n",
    "\n",
    "model.set_rhs('v1', a1)\n",
    "model.set_rhs('v2', a2)\n",
    "model.set_rhs('v3', a3)\n",
    "model.set_rhs('v4', a4)\n",
    "\n",
    "model.set_rhs('a1', u1)\n",
    "model.set_rhs('a2', u2)\n",
    "model.set_rhs('a3', u3)\n",
    "model.set_rhs('a4', u4)"
   ]
  },
  {
   "cell_type": "code",
   "execution_count": 281,
   "metadata": {},
   "outputs": [],
   "source": [
    "# Definition de la position du robot\n",
    "p_x = model.set_expression('p_x', x1 + l1*np.cos(x3) + l2*np.cos(x3 + x4) + l3*np.cos(x3 + x4 + x5))\n",
    "p_y = model.set_expression('p_y', x2 + l1*np.sin(x3) + l2*np.sin(x3 + x4) + l3*np.sin(x3 + x4 + x5))\n",
    "theta = model.set_expression('theta', x3 + x4 + x5)"
   ]
  },
  {
   "cell_type": "code",
   "execution_count": 282,
   "metadata": {},
   "outputs": [],
   "source": [
    "# Desfiniton des \"time-varying parameters\"\n",
    "theta_set = model.set_variable('_tvp', 'theta_set')\n",
    "theta_cmd = model.set_expression('theta_cmd', theta_set - np.pi)\n",
    "p_x_set = model.set_expression('p_x_set', cercle_bleu['r']*np.cos(theta_set))\n",
    "p_y_set = model.set_expression('p_y_set', cercle_bleu['r']*np.sin(theta_set))"
   ]
  },
  {
   "cell_type": "code",
   "execution_count": 283,
   "metadata": {},
   "outputs": [],
   "source": [
    "# Definition des contraintes de non-collision\n",
    "node0_x = model.x['x1'] \n",
    "node0_y = model.x['x2']\n",
    "node1_x = node0_x+l1*np.cos(model.x['x3'])\n",
    "node1_y = node0_y+l1*np.sin(model.x['x3'])\n",
    "node2_x = node1_x+l2*np.cos(model.x['x3']+model.x['x4'])\n",
    "node2_y = node1_y+l2*np.sin(model.x['x3']+model.x['x4'])\n",
    "\n",
    "d0 = model.set_expression('d0', np.sqrt( (node0_x-obstacle['x'])**2 + (node0_y-obstacle['y'])**2 ) - (obstacle['r']+0.4)) \n",
    "d1 = model.set_expression('d1', np.sqrt( (node1_x-obstacle['x'])**2 + (node1_y-obstacle['y'])**2 ) - (obstacle['r']+0.3))\n",
    "d2 = model.set_expression('d2', np.sqrt( (node2_x-obstacle['x'])**2 + (node2_y-obstacle['y'])**2 ) - (obstacle['r']+0.1))\n",
    "d3 = model.set_expression('d3', np.sqrt( (p_x-obstacle['x'])**2     + (p_y-obstacle['y'])**2     ) - (obstacle['r']+0.15))\n",
    "\n",
    "obstacle_distance = [d0, d1, d2, d3]\n",
    "obstacle_distance = model.set_expression('obstacle_distance', vertcat(*obstacle_distance))"
   ]
  },
  {
   "cell_type": "code",
   "execution_count": 284,
   "metadata": {},
   "outputs": [],
   "source": [
    "# Mise en place du modèle\n",
    "model.setup()"
   ]
  },
  {
   "cell_type": "markdown",
   "metadata": {},
   "source": [
    "-----------------------\n",
    "### <center>CONFIGURATION DE L'OPTIMISEUR</center>\n",
    "-----------------------"
   ]
  },
  {
   "cell_type": "code",
   "execution_count": 285,
   "metadata": {},
   "outputs": [],
   "source": [
    "# Creation de l'optimiseur\n",
    "mpc = do_mpc.controller.MPC(model)"
   ]
  },
  {
   "cell_type": "code",
   "execution_count": 286,
   "metadata": {},
   "outputs": [],
   "source": [
    "# Optimizer paramters\n",
    "setup_mpc = {\n",
    "    'n_horizon': n_horizon,\n",
    "    't_step': t_step_ech,\n",
    "    'n_robust': 0,\n",
    "    'store_full_solution': True,\n",
    "}\n",
    "mpc.set_param(**setup_mpc)"
   ]
  },
  {
   "cell_type": "code",
   "execution_count": 287,
   "metadata": {},
   "outputs": [],
   "source": [
    "# Critères d'optimisation\n",
    "err_1 = model.aux['p_x'] - model.aux['p_x_set']\n",
    "err_2 = model.aux['p_y'] - model.aux['p_y_set']\n",
    "err_3 = model.aux['theta'] - (model.tvp['theta_set'] - np.pi)   # Permet de pointer vers \"l'interieur\"\n",
    "\n",
    "J1 = err_1**2 + err_2**2 + err_3**2\n",
    "J2 = err_1**2 + err_2**2 + err_3**2 + v3**2 + v4**2\n",
    "if use_objective == 'J1':\n",
    "    J = J1\n",
    "elif use_objective == 'J2':\n",
    "    J = J2\n",
    "else:\n",
    "    raise ValueError('Unknown objective function')\n",
    "\n",
    "# Mise en place des critères d'optimisation\n",
    "mterm = J # Terminal cost\n",
    "lterm = J # Stage cost\n",
    "mpc.set_objective(mterm=mterm, lterm=lterm)\n",
    "\n",
    "# Penalisation des variation de l'entree - IMPORTANT\n",
    "if use_rterm2:\n",
    "    mpc.set_rterm(\n",
    "        u1=10,\n",
    "        u2=5,\n",
    "        u3=5,\n",
    "        u4=0.1\n",
    "    )\n",
    "else:\n",
    "    mpc.set_rterm(\n",
    "        u1=0.1,\n",
    "        u2=0.1,\n",
    "        u3=0.1,\n",
    "        u4=0.1\n",
    "    )"
   ]
  },
  {
   "cell_type": "code",
   "execution_count": 288,
   "metadata": {},
   "outputs": [],
   "source": [
    "# Definition de la variation de la position de l'effecteur\n",
    "tvp_template_optim = mpc.get_tvp_template()\n",
    "\n",
    "def pos_effecteur(t_ind):\n",
    "    if reference == 'cste':\n",
    "        tvp_template_optim['_tvp',:, 'theta_set'] = consigne1\n",
    "    elif reference == 'bi':\n",
    "        ind_switch = t_switch // mpc.settings.t_step\n",
    "        ind = t_ind // mpc.settings.t_step\n",
    "        if ind <= ind_switch:\n",
    "            tvp_template_optim['_tvp',:, 'theta_set'] = consigne1\n",
    "        else:\n",
    "            tvp_template_optim['_tvp',:, 'theta_set'] = consigne2\n",
    "        return tvp_template_optim\n",
    "    elif reference == 'continuous':\n",
    "        agl = consigne1 + t_ind*v_rot\n",
    "        tvp_template_optim['_tvp',:, 'theta_set'] = agl\n",
    "    elif reference == 'var':\n",
    "        v_rot = a_rot*t_ind\n",
    "        agl = consigne1 + t_ind*v_rot\n",
    "        tvp_template_optim['_tvp',:, 'theta_set'] = agl\n",
    "    else:\n",
    "        raise ValueError('Commande effecteur non reconnue')\n",
    "    \n",
    "    return tvp_template_optim\n",
    "\n",
    "mpc.set_tvp_fun(pos_effecteur)"
   ]
  },
  {
   "cell_type": "code",
   "execution_count": 289,
   "metadata": {},
   "outputs": [],
   "source": [
    "# Mise en place des contraintes\n",
    "# Limites sur les positions\n",
    "mpc.bounds['lower','_x','x1'] = -10\n",
    "mpc.bounds['upper','_x','x1'] = 10\n",
    "mpc.bounds['lower','_x','x2'] = -10\n",
    "mpc.bounds['upper','_x','x2'] = 10\n",
    "# mpc.bounds['lower','_x','x3'] = -gamma\n",
    "# mpc.bounds['upper','_x','x3'] = gamma\n",
    "mpc.bounds['lower','_x','x4'] = -gamma\n",
    "mpc.bounds['upper','_x','x4'] = gamma\n",
    "mpc.bounds['lower','_x','x5'] = -gamma\n",
    "mpc.bounds['upper','_x','x5'] = gamma\n",
    "\n",
    "# Limites sur la vitesse\n",
    "mpc.bounds['lower','_x','v1'] = -1.5\n",
    "mpc.bounds['upper','_x','v1'] = 1.5\n",
    "mpc.bounds['lower','_x','v2'] = -1.5\n",
    "mpc.bounds['upper','_x','v2'] = 1.5\n",
    "mpc.bounds['lower','_x','v3'] = -1.5\n",
    "mpc.bounds['upper','_x','v3'] = 1.5\n",
    "mpc.bounds['lower','_x','v4'] = -1.5\n",
    "mpc.bounds['upper','_x','v4'] = 1.5\n",
    "\n",
    "# Limite sur l'accélération (et donc les couples)\n",
    "mpc.bounds['lower','_u','u1'] = -2\n",
    "mpc.bounds['upper','_u','u1'] = 2\n",
    "mpc.bounds['lower','_u','u2'] = -2\n",
    "mpc.bounds['upper','_u','u2'] = 2\n",
    "mpc.bounds['lower','_u','u3'] = -2\n",
    "mpc.bounds['upper','_u','u3'] = 2\n",
    "mpc.bounds['lower','_u','u4'] = -2\n",
    "mpc.bounds['upper','_u','u4'] = 2"
   ]
  },
  {
   "cell_type": "code",
   "execution_count": 290,
   "metadata": {},
   "outputs": [],
   "source": [
    "# Mise à l'echelle (améliore stabilité, convergence et comparabilité des paramètres de l'optimisation)\n",
    "# Scaling des positions\n",
    "mpc.scaling['_x', 'x1'] = 10  \n",
    "mpc.scaling['_x', 'x2'] = 10  \n",
    "# mpc.scaling['_x', 'x3'] = gamma\n",
    "mpc.scaling['_x', 'x4'] = gamma  \n",
    "mpc.scaling['_x', 'x5'] = gamma\n",
    "# Scaling des vitesses\n",
    "mpc.scaling['_x', 'v1'] = 1.5  \n",
    "mpc.scaling['_x', 'v2'] = 1.5  \n",
    "mpc.scaling['_x', 'v3'] = 1.5  \n",
    "mpc.scaling['_x', 'v4'] = 1.5  \n",
    "# Scaling des accélérations (ou couples)\n",
    "mpc.scaling['_u', 'u1'] = 2\n",
    "mpc.scaling['_u', 'u2'] = 2\n",
    "mpc.scaling['_u', 'u3'] = 2\n",
    "mpc.scaling['_u', 'u4'] = 2"
   ]
  },
  {
   "cell_type": "code",
   "execution_count": 291,
   "metadata": {},
   "outputs": [],
   "source": [
    "# Eviter les obstacles\n",
    "if use_obstacle:\n",
    "    obstacles_mps = mpc.set_nl_cons('obstacles', -model.aux['obstacle_distance'], 0)"
   ]
  },
  {
   "cell_type": "code",
   "execution_count": 292,
   "metadata": {},
   "outputs": [],
   "source": [
    "# Mise en place du parametrage de l'optimiseur\n",
    "mpc.setup()"
   ]
  },
  {
   "cell_type": "markdown",
   "metadata": {},
   "source": [
    "-----------------------\n",
    "### <center>CONFIGUARATION DE L'ESTIMATEUR</center>\n",
    "-----------------------\n",
    "On fait l'hypothèse d'un retour direct"
   ]
  },
  {
   "cell_type": "code",
   "execution_count": 293,
   "metadata": {},
   "outputs": [],
   "source": [
    "# Creation de l'estimateur\n",
    "estimator = do_mpc.estimator.StateFeedback(model)"
   ]
  },
  {
   "cell_type": "markdown",
   "metadata": {},
   "source": [
    "-----------------------\n",
    "### <center>CONFIGURATION DU SIMULATEUR</center>\n",
    "-----------------------"
   ]
  },
  {
   "cell_type": "code",
   "execution_count": 294,
   "metadata": {},
   "outputs": [],
   "source": [
    "# Creation du simulateur\n",
    "simulator = do_mpc.simulator.Simulator(model)"
   ]
  },
  {
   "cell_type": "code",
   "execution_count": 295,
   "metadata": {},
   "outputs": [],
   "source": [
    "# Parametrage du simulateur\n",
    "params_simulator = {\n",
    "    'integration_tool': 'idas',\n",
    "    'abstol': 1e-8,\n",
    "    'reltol': 1e-8,\n",
    "    't_step': t_step_ech\n",
    "}\n",
    "simulator.set_param(**params_simulator)"
   ]
  },
  {
   "cell_type": "code",
   "execution_count": 296,
   "metadata": {},
   "outputs": [],
   "source": [
    "# Definition de la variation de la position de l'effecteur\n",
    "tvp_template_sim = simulator.get_tvp_template()\n",
    "def tvp_fun(t_ind):\n",
    "    return tvp_template_sim\n",
    "simulator.set_tvp_fun(tvp_fun)"
   ]
  },
  {
   "cell_type": "code",
   "execution_count": 297,
   "metadata": {},
   "outputs": [],
   "source": [
    "# Initialisation du simulateur\n",
    "simulator.setup()"
   ]
  },
  {
   "cell_type": "markdown",
   "metadata": {},
   "source": [
    "-----------------------\n",
    "### <center>PREPARATION DE L'AFFICHAGE GRAPHIQUE</center>\n",
    "-----------------------"
   ]
  },
  {
   "cell_type": "code",
   "execution_count": 298,
   "metadata": {},
   "outputs": [],
   "source": [
    "# Preparation du module graphique\n",
    "mpc_graphics = do_mpc.graphics.Graphics(mpc.data)"
   ]
  },
  {
   "cell_type": "code",
   "execution_count": 299,
   "metadata": {},
   "outputs": [],
   "source": [
    "# Preparation de matplotlib\n",
    "import matplotlib.pyplot as plt\n",
    "plt.ion()\n",
    "from matplotlib import rcParams\n",
    "rcParams['text.usetex'] = False\n",
    "rcParams['axes.grid'] = True\n",
    "rcParams['lines.linewidth'] = 2.0\n",
    "rcParams['axes.labelsize'] = 'xx-large'\n",
    "rcParams['xtick.labelsize'] = 'xx-large'\n",
    "rcParams['ytick.labelsize'] = 'xx-large'\n",
    "rcParams['font.size'] = 8\n",
    "\n",
    "from matplotlib.patches import Circle"
   ]
  },
  {
   "cell_type": "code",
   "execution_count": 300,
   "metadata": {},
   "outputs": [],
   "source": [
    "def robot(x):\n",
    "    x = x.flatten()\n",
    "\n",
    "    chassis_x = np.array([\n",
    "        x[0],\n",
    "        x[0] + l1*np.cos(x[2])\n",
    "    ])\n",
    "    chassis_y = np.array([\n",
    "        x[1],\n",
    "        x[1] + l1*np.sin(x[2])\n",
    "    ])\n",
    "\n",
    "    barre_intermediaire_x = np.array([\n",
    "        chassis_x[1],\n",
    "        chassis_x[1] + l2*np.cos(x[2]+x[3])\n",
    "    ])\n",
    "    barre_intermediaire_y = np.array([\n",
    "        chassis_y[1],\n",
    "        chassis_y[1] + l2*np.sin(x[2]+x[3])\n",
    "    ])\n",
    "\n",
    "    effecteur_x = np.array([\n",
    "        barre_intermediaire_x[1],\n",
    "        barre_intermediaire_x[1] + l3*np.cos(x[2]+x[3]+x[4])\n",
    "    ])\n",
    "    effecteur_y = np.array([\n",
    "        barre_intermediaire_y[1],\n",
    "        barre_intermediaire_y[1] + l3*np.sin(x[2]+x[3]+x[4])\n",
    "    ])  \n",
    "\n",
    "    chassis = np.stack((chassis_x, chassis_y))\n",
    "    barre_intermediaire = np.stack((barre_intermediaire_x, barre_intermediaire_y))\n",
    "    effecteur = np.stack((effecteur_x, effecteur_y))\n",
    "\n",
    "    return chassis, barre_intermediaire, effecteur\n",
    "\n",
    "def env_p(tvp):\n",
    "    tvp.flatten()\n",
    "\n",
    "    p_set_x = np.array([\n",
    "        cercle_bleu['r']*np.cos(tvp[0]),\n",
    "        cercle_bleu['r']*np.cos(tvp[0])\n",
    "    ])\n",
    "    p_set_y = np.array([\n",
    "        cercle_bleu['r']*np.sin(tvp[0]),\n",
    "        cercle_bleu['r']*np.sin(tvp[0])\n",
    "    ])\n",
    "\n",
    "    p_set = np.stack((p_set_x, p_set_y))\n",
    "    return p_set"
   ]
  },
  {
   "cell_type": "code",
   "execution_count": 301,
   "metadata": {},
   "outputs": [],
   "source": [
    "%%capture\n",
    "\n",
    "fig = plt.figure(figsize=(18,9))\n",
    "\n",
    "ax1 = plt.subplot2grid((4, 2), (0, 0), rowspan=5)\n",
    "ax2 = plt.subplot2grid((4, 2), (0, 1))\n",
    "ax3 = plt.subplot2grid((4, 2), (1, 1))\n",
    "ax4 = plt.subplot2grid((4, 2), (2, 1))\n",
    "ax5 = plt.subplot2grid((4, 2), (3, 1))\n",
    "\n",
    "ax2.set_ylabel('$d_{0 1 2 3}$ [m]')\n",
    "ax4.set_ylabel('$p_{x}$ [m]')\n",
    "ax5.set_ylabel('$p_{y}$ [m]')\n",
    "ax3.set_ylabel('$\\Theta$ [rad]')\n",
    "\n",
    "# Axis on the right.\n",
    "for ax in [ax2, ax3, ax4, ax5]:\n",
    "    ax.yaxis.set_label_position(\"right\")\n",
    "    ax.yaxis.tick_right()\n",
    "    if ax != ax5:\n",
    "        ax.xaxis.set_ticklabels([])\n",
    "        \n",
    "ax5.set_xlabel('time [s]')\n",
    "\n",
    "mpc_graphics.add_line(var_type='_aux', var_name='d0', axis=ax2, label='d0')\n",
    "mpc_graphics.add_line(var_type='_aux', var_name='d1', axis=ax2, label='d1')\n",
    "mpc_graphics.add_line(var_type='_aux', var_name='d2', axis=ax2, label='d2')\n",
    "mpc_graphics.add_line(var_type='_aux', var_name='d3', axis=ax2, label='d3')\n",
    "ax2.axhline(0, color='black', linewidth=4)\n",
    "\n",
    "mpc_graphics.add_line(var_type='_aux', var_name='theta', axis=ax3)\n",
    "mpc_graphics.add_line(var_type='_aux', var_name='theta_cmd', axis=ax3)\n",
    "mpc_graphics.add_line(var_type='_aux', var_name='p_x', axis=ax4)\n",
    "mpc_graphics.add_line(var_type='_aux', var_name='p_x_set', axis=ax4)\n",
    "mpc_graphics.add_line(var_type='_aux', var_name='p_y', axis=ax5)\n",
    "mpc_graphics.add_line(var_type='_aux', var_name='p_y_set', axis=ax5)\n",
    "\n",
    "ax1.axhline(0,color='black')\n",
    "\n",
    "bar1 = ax1.plot([],[], '-o', linewidth=5, markersize=10, color='black')\n",
    "bar2 = ax1.plot([],[], '-o', linewidth=5, markersize=10)\n",
    "bar3 = ax1.plot([],[], '-o', linewidth=5, markersize=10)\n",
    "\n",
    "point1 = ax1.plot([],[], '-o', linewidth=5, markersize=10, color='red')\n",
    "\n",
    "if use_obstacle:\n",
    "    circle = Circle((obstacle['x'], obstacle['y']), obstacle['r'])\n",
    "    ax1.add_artist(circle)\n",
    "circle = Circle((cercle_bleu['x'], cercle_bleu['y']), cercle_bleu['r'], edgecolor='blue', fill=False, linestyle='--', linewidth=5)\n",
    "ax1.add_artist(circle)\n",
    "\n",
    "size_ax = 3\n",
    "ax1.set_xlim(-size_ax,size_ax)\n",
    "ax1.set_ylim(-size_ax,size_ax)\n",
    "ax1.set_axis_off()\n",
    "\n",
    "fig.align_ylabels()\n",
    "fig.tight_layout()"
   ]
  },
  {
   "cell_type": "markdown",
   "metadata": {},
   "source": [
    "-----------------------\n",
    "### <center>SIMULATION EN BOUCLE FERMEE</center>\n",
    "-----------------------\n",
    "Attention : on fait l'hypothèse qu'on à un retour de létat direct et donc qu'on n'a pas besoin de mettre en place un estimateur."
   ]
  },
  {
   "cell_type": "code",
   "execution_count": 302,
   "metadata": {},
   "outputs": [],
   "source": [
    "# Choix des CI\n",
    "\n",
    "if CI == 'CInulles':\n",
    "    simulator.x0['x1'] = 0\n",
    "    simulator.x0['x2'] = 0\n",
    "    simulator.x0['x3'] = 0\n",
    "    simulator.x0['x4'] = 0\n",
    "    simulator.x0['x5'] = 0\n",
    "    simulator.x0['v1'] = 0\n",
    "    simulator.x0['v2'] = 0\n",
    "    simulator.x0['v3'] = 0\n",
    "    simulator.x0['v4'] = 0\n",
    "    simulator.x0['a1'] = 0\n",
    "    simulator.x0['a2'] = 0\n",
    "    simulator.x0['a3'] = 0\n",
    "    simulator.x0['a4'] = 0\n",
    "elif CI == 'CI1':\n",
    "    simulator.x0['x1'] = -2\n",
    "    simulator.x0['x2'] = 1\n",
    "    simulator.x0['x3'] = 0\n",
    "    simulator.x0['x4'] = 0\n",
    "    simulator.x0['x5'] = 0\n",
    "    simulator.x0['v1'] = 0\n",
    "    simulator.x0['v2'] = 0\n",
    "    simulator.x0['v3'] = 0\n",
    "    simulator.x0['v4'] = 0\n",
    "    simulator.x0['a1'] = 0\n",
    "    simulator.x0['a2'] = 0\n",
    "    simulator.x0['a3'] = 0\n",
    "    simulator.x0['a4'] = 0\n",
    "elif CI == 'CIcontournement':\n",
    "    simulator.x0['x1'] = 0\n",
    "    simulator.x0['x2'] = -1\n",
    "    simulator.x0['x3'] = -np.pi/2\n",
    "    simulator.x0['x4'] = 0\n",
    "    simulator.x0['x5'] = 0\n",
    "    simulator.x0['v1'] = 0\n",
    "    simulator.x0['v2'] = 0\n",
    "    simulator.x0['v3'] = 0\n",
    "    simulator.x0['v4'] = 0\n",
    "    simulator.x0['a1'] = 0\n",
    "    simulator.x0['a2'] = 0\n",
    "    simulator.x0['a3'] = 0\n",
    "    simulator.x0['a4'] = 0\n",
    "elif CI == 'CIcontournement_replie':\n",
    "    simulator.x0['x1'] = 0\n",
    "    simulator.x0['x2'] = -1\n",
    "    simulator.x0['x3'] = -np.pi/2\n",
    "    simulator.x0['x4'] = np.pi\n",
    "    simulator.x0['x5'] = np.pi\n",
    "    simulator.x0['v1'] = 0\n",
    "    simulator.x0['v2'] = 0\n",
    "    simulator.x0['v3'] = 0\n",
    "    simulator.x0['v4'] = 0\n",
    "    simulator.x0['a1'] = 0\n",
    "    simulator.x0['a2'] = 0\n",
    "    simulator.x0['a3'] = 0\n",
    "    simulator.x0['a4'] = 0\n",
    "else:\n",
    "    raise Exception('CI not defined.')"
   ]
  },
  {
   "cell_type": "code",
   "execution_count": 303,
   "metadata": {},
   "outputs": [],
   "source": [
    "# Declaration de l'etat initial\n",
    "x0 = simulator.x0.cat.full()\n",
    "mpc.x0 = x0\n",
    "estimator.x0 = x0\n",
    "mpc.set_initial_guess()"
   ]
  },
  {
   "cell_type": "code",
   "execution_count": 304,
   "metadata": {},
   "outputs": [],
   "source": [
    "%%capture\n",
    "# Launch simulation\n",
    "\n",
    "mpc.reset_history()\n",
    "time_list = []\n",
    "tic = time.time()  # Start timing\n",
    "for k in range(n_step_sim):\n",
    "    # tic = time.time()\n",
    "    u0 = mpc.make_step(x0)\n",
    "    # toc = time.time()\n",
    "    y_next = simulator.make_step(u0)\n",
    "    x0 = estimator.make_step(y_next)\n",
    "toc = time.time()  # End timing\n",
    "# Create a unique key for the current horizon\n",
    "destination_x = cercle_bleu['r'] * np.cos(consigne1)\n",
    "destination_y = cercle_bleu['r'] * np.sin(consigne1)\n",
    "results[f\"horizon_{n_horizon}\"] = {\n",
    "    '_x': mpc.data['_x'],  # State data\n",
    "    '_u': mpc.data['_u'],  # Control input data\n",
    "    'destination': (destination_x, destination_y)  # Destination finale\n",
    "}\n",
    "computation_times[f\"horizon_{n_horizon}\"] = toc - tic  # Simulation time\n",
    "\n",
    "# Save the results dictionary for later plotting\n",
    "np.savez(f'results_data_{n_horizon}.npz', results=results, computation_times=computation_times)"
   ]
  },
  {
   "cell_type": "code",
   "execution_count": 305,
   "metadata": {},
   "outputs": [
    {
     "data": {
      "text/plain": [
       "'\\nfrom matplotlib.animation import PillowWriter, ImageMagickWriter\\n\\n# The function describing the gif:\\nx_arr = mpc.data[\\'_x\\']\\ntvp_arr = mpc.data[\\'_tvp\\']\\ndef update(t_ind):\\n    chassis, barre_intermediaire, effecteur = robot(x_arr[t_ind])\\n    bar1[0].set_data(chassis[0],chassis[1])\\n    bar2[0].set_data(barre_intermediaire[0],barre_intermediaire[1])\\n    bar3[0].set_data(effecteur[0],effecteur[1])\\n    if t_ind==0:\\n        p_set = env_p(tvp_arr[t_ind])\\n        point1[0].set_data(p_set[0],p_set[1])\\n    elif reference:\\n        p_set = env_p(tvp_arr[t_ind])\\n        point1[0].set_data(p_set[0],p_set[1])\\n    mpc_graphics.plot_results(t_ind)\\n    mpc_graphics.plot_predictions(t_ind)\\n    mpc_graphics.reset_axes()\\n    \\nanim = FuncAnimation(fig, update, frames=n_step_sim, repeat=False)\\ngif_writer = PillowWriter(fps=10)\\n\\nfilename = f\"results/{auteur}__jerk__S{scenario}__{use_objective}__H-{n_horizon}__T-{t_step_ech:.2f}\"\\nfilename = filename.replace(\\'.\\', \\',\\')\\nfilename += \\'.gif\\'\\nanim.save(filename, writer=gif_writer)\\nprint(f\"GIF enregistré sous : {filename}\")\\n'"
      ]
     },
     "execution_count": 305,
     "metadata": {},
     "output_type": "execute_result"
    }
   ],
   "source": [
    "'''\n",
    "from matplotlib.animation import PillowWriter, ImageMagickWriter\n",
    "\n",
    "# The function describing the gif:\n",
    "x_arr = mpc.data['_x']\n",
    "tvp_arr = mpc.data['_tvp']\n",
    "def update(t_ind):\n",
    "    chassis, barre_intermediaire, effecteur = robot(x_arr[t_ind])\n",
    "    bar1[0].set_data(chassis[0],chassis[1])\n",
    "    bar2[0].set_data(barre_intermediaire[0],barre_intermediaire[1])\n",
    "    bar3[0].set_data(effecteur[0],effecteur[1])\n",
    "    if t_ind==0:\n",
    "        p_set = env_p(tvp_arr[t_ind])\n",
    "        point1[0].set_data(p_set[0],p_set[1])\n",
    "    elif reference:\n",
    "        p_set = env_p(tvp_arr[t_ind])\n",
    "        point1[0].set_data(p_set[0],p_set[1])\n",
    "    mpc_graphics.plot_results(t_ind)\n",
    "    mpc_graphics.plot_predictions(t_ind)\n",
    "    mpc_graphics.reset_axes()\n",
    "    \n",
    "anim = FuncAnimation(fig, update, frames=n_step_sim, repeat=False)\n",
    "gif_writer = PillowWriter(fps=10)\n",
    "\n",
    "filename = f\"results/{auteur}__jerk__S{scenario}__{use_objective}__H-{n_horizon}__T-{t_step_ech:.2f}\"\n",
    "filename = filename.replace('.', ',')\n",
    "filename += '.gif'\n",
    "anim.save(filename, writer=gif_writer)\n",
    "print(f\"GIF enregistré sous : {filename}\")\n",
    "#'''"
   ]
  }
 ],
 "metadata": {
  "kernelspec": {
   "display_name": "Python 3",
   "language": "python",
   "name": "python3"
  },
  "language_info": {
   "codemirror_mode": {
    "name": "ipython",
    "version": 3
   },
   "file_extension": ".py",
   "mimetype": "text/x-python",
   "name": "python",
   "nbconvert_exporter": "python",
   "pygments_lexer": "ipython3",
   "version": "3.11.0"
  }
 },
 "nbformat": 4,
 "nbformat_minor": 2
}
